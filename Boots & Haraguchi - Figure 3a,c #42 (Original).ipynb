{
 "cells": [
  {
   "cell_type": "code",
   "execution_count": 181,
   "metadata": {},
   "outputs": [],
   "source": [
    "import numpy as np\n",
    "import matplotlib.pyplot as plt\n",
    "from scipy.integrate import odeint\n",
    "%matplotlib inline\n",
    "\n",
    "from sympy.solvers import solve\n",
    "from sympy.solvers import nonlinsolve\n",
    "from sympy.solvers import solveset\n",
    "from sympy import Symbol\n",
    "\n",
    "from scipy.optimize import fsolve"
   ]
  },
  {
   "cell_type": "markdown",
   "metadata": {},
   "source": [
    "## fsolve"
   ]
  },
  {
   "cell_type": "code",
   "execution_count": 182,
   "metadata": {},
   "outputs": [],
   "source": [
    "def Eq(x):\n",
    "    return (1/(A*(x[0] - B)**2) + ((1/(q+x[0]))*((1/(A*(x[0]-B)))+C-((q*capGam)/x[0]))))"
   ]
  },
  {
   "cell_type": "markdown",
   "metadata": {},
   "source": [
    "# Figure 3a"
   ]
  },
  {
   "cell_type": "code",
   "execution_count": 183,
   "metadata": {},
   "outputs": [],
   "source": [
    "capGam = 1\n",
    "A = -2\n",
    "B = -0.2\n",
    "C = 2.5"
   ]
  },
  {
   "cell_type": "code",
   "execution_count": 184,
   "metadata": {},
   "outputs": [],
   "source": [
    "q_values = np.arange(start=0.001, stop=0.101, step=0.001)\n",
    "ESSbet=np.zeros(100)\n",
    "\n",
    "for i in range(100):\n",
    "    q = q_values[i]\n",
    "    \n",
    "    if i==0:\n",
    "        l = 0.01\n",
    "    else:\n",
    "        l = ESSbet[i-1]\n",
    "    \n",
    "    solv=fsolve(Eq,l)\n",
    "    ESSbet[i]=solv"
   ]
  },
  {
   "cell_type": "code",
   "execution_count": 185,
   "metadata": {},
   "outputs": [],
   "source": [
    "#ESSbet"
   ]
  },
  {
   "cell_type": "code",
   "execution_count": 197,
   "metadata": {},
   "outputs": [
    {
     "data": {
      "text/plain": [
       "Text(0, 0.5, '$ESS\\\\beta$')"
      ]
     },
     "execution_count": 197,
     "metadata": {},
     "output_type": "execute_result"
    },
    {
     "data": {
      "image/png": "[encoded data removed]",
      "text/plain": [
       "<Figure size 432x288 with 1 Axes>"
      ]
     },
     "metadata": {
      "needs_background": "light"
     },
     "output_type": "display_data"
    }
   ],
   "source": [
    "plt.plot(q_values,ESSbet, '.')\n",
    "plt.xlabel(r'$q$', fontsize=18)\n",
    "plt.ylabel(r'$ESS\\beta$', fontsize=18)"
   ]
  },
  {
   "cell_type": "markdown",
   "metadata": {},
   "source": [
    "# Figure 3c"
   ]
  },
  {
   "cell_type": "code",
   "execution_count": 201,
   "metadata": {},
   "outputs": [],
   "source": [
    "q = 0.05\n",
    "A = -2\n",
    "B = 2.2\n",
    "C = 0.01"
   ]
  },
  {
   "cell_type": "code",
   "execution_count": 202,
   "metadata": {},
   "outputs": [],
   "source": [
    "logcapGam_values = np.arange(start=0.1, stop=10.1, step=0.1)\n",
    "ESSbet=np.zeros(100)\n",
    "\n",
    "for i in range(100):\n",
    "    a = logcapGam_values[i]\n",
    "    capGam = np.exp(a)\n",
    "    #capGam = logcapGam_values[i]\n",
    "    \n",
    "    if i==0:\n",
    "        l = 10\n",
    "    else:\n",
    "        l = ESSbet[i-1]\n",
    "    \n",
    "    solv=fsolve(Eq,l)\n",
    "    ESSbet[i]=solv"
   ]
  },
  {
   "cell_type": "code",
   "execution_count": 203,
   "metadata": {},
   "outputs": [
    {
     "data": {
      "text/plain": [
       "(0.0, 115738.5150592394)"
      ]
     },
     "execution_count": 203,
     "metadata": {},
     "output_type": "execute_result"
    },
    {
     "data": {
      "image/png": "[encoded data removed]",
      "text/plain": [
       "<Figure size 432x288 with 1 Axes>"
      ]
     },
     "metadata": {
      "needs_background": "light"
     },
     "output_type": "display_data"
    }
   ],
   "source": [
    "plt.plot(logcapGam_values, ESSbet, '.')\n",
    "plt.xlabel(r'$log_{10}\\Gamma$', fontsize=18)\n",
    "plt.ylabel(r'$ESS\\beta$', fontsize=18)\n",
    "plt.xlim(0)\n",
    "plt.ylim(0)"
   ]
  }
 ],
 "metadata": {
  "kernelspec": {
   "display_name": "Python 3",
   "language": "python",
   "name": "python3"
  },
  "language_info": {
   "codemirror_mode": {
    "name": "ipython",
    "version": 3
   },
   "file_extension": ".py",
   "mimetype": "text/x-python",
   "name": "python",
   "nbconvert_exporter": "python",
   "pygments_lexer": "ipython3",
   "version": "3.8.3"
  }
 },
 "nbformat": 4,
 "nbformat_minor": 4
}
