{
 "cells": [
  {
   "cell_type": "code",
   "execution_count": 1,
   "metadata": {},
   "outputs": [],
   "source": [
    "import numpy as np\n",
    "import matplotlib.pyplot as plt\n",
    "from scipy.integrate import odeint\n",
    "%matplotlib inline\n",
    "\n",
    "from sympy.solvers import solve\n",
    "from sympy.solvers import nonlinsolve\n",
    "from sympy.solvers import solveset\n",
    "from sympy import Symbol\n",
    "\n",
    "from scipy.optimize import fsolve"
   ]
  },
  {
   "cell_type": "code",
   "execution_count": 2,
   "metadata": {},
   "outputs": [],
   "source": [
    "def Eq(x):\n",
    "    return (1/(A*(x[0] - B)**2) + ((1/(q+x[0]))*((1/(A*(x[0]-B)))+C-((q*capGam)/x[0]))))"
   ]
  },
  {
   "cell_type": "markdown",
   "metadata": {},
   "source": [
    "# Figure 3a"
   ]
  },
  {
   "cell_type": "code",
   "execution_count": 3,
   "metadata": {},
   "outputs": [],
   "source": [
    "capGam = 1\n",
    "A = -2\n",
    "B = -0.2\n",
    "C = 2.5"
   ]
  },
  {
   "cell_type": "code",
   "execution_count": 4,
   "metadata": {},
   "outputs": [],
   "source": [
    "q_values = np.arange(start=0.001, stop=0.101, step=0.001)\n",
    "ESSbet=np.zeros(100)\n",
    "\n",
    "for i in range(100):\n",
    "    q = q_values[i]\n",
    "    \n",
    "    if i==0:\n",
    "        l = 0.01\n",
    "    else:\n",
    "        l = ESSbet[i-1]\n",
    "    \n",
    "    solv=fsolve(Eq,l)\n",
    "    ESSbet[i]=solv"
   ]
  },
  {
   "cell_type": "code",
   "execution_count": 5,
   "metadata": {},
   "outputs": [],
   "source": [
    "#ESSbet"
   ]
  },
  {
   "cell_type": "code",
   "execution_count": 6,
   "metadata": {},
   "outputs": [
    {
     "data": {
      "text/plain": [
       "(0.0, 0.10495)"
      ]
     },
     "execution_count": 6,
     "metadata": {},
     "output_type": "execute_result"
    },
    {
     "data": {
      "image/png": "[encoded data removed]",
      "text/plain": [
       "<Figure size 432x288 with 1 Axes>"
      ]
     },
     "metadata": {
      "needs_background": "light"
     },
     "output_type": "display_data"
    }
   ],
   "source": [
    "plt.plot(q_values,ESSbet, '.')\n",
    "plt.xlabel(r'$q$', fontsize=18)\n",
    "plt.ylabel(r'$ESS\\beta$', fontsize=18)\n",
    "plt.yticks([0,0.05,0.1,0.15,0.2])\n",
    "plt.xlim(0)"
   ]
  },
  {
   "cell_type": "markdown",
   "metadata": {},
   "source": [
    "# Figure 3c"
   ]
  },
  {
   "cell_type": "code",
   "execution_count": 7,
   "metadata": {},
   "outputs": [],
   "source": [
    "q = 0.05\n",
    "A = -2\n",
    "B = 2.2\n",
    "C = 0.01"
   ]
  },
  {
   "cell_type": "code",
   "execution_count": 8,
   "metadata": {},
   "outputs": [
    {
     "name": "stderr",
     "output_type": "stream",
     "text": [
      "C:\\Anaconda\\lib\\site-packages\\scipy\\optimize\\minpack.py:175: RuntimeWarning: The iteration is not making good progress, as measured by the \n",
      "  improvement from the last ten iterations.\n",
      "  warnings.warn(msg, RuntimeWarning)\n",
      "C:\\Anaconda\\lib\\site-packages\\scipy\\optimize\\minpack.py:175: RuntimeWarning: The iteration is not making good progress, as measured by the \n",
      "  improvement from the last five Jacobian evaluations.\n",
      "  warnings.warn(msg, RuntimeWarning)\n"
     ]
    }
   ],
   "source": [
    "logcapGam_values = np.arange(start=0, stop=10, step=0.1)\n",
    "\n",
    "ESSbet=np.zeros(100)\n",
    "\n",
    "for i in range(100):\n",
    "    capGam = 10**(logcapGam_values[i])\n",
    "    #capGam = logcapGam_values[i]\n",
    "    \n",
    "    if i==0:\n",
    "        l = 0.01\n",
    "    else:\n",
    "        l = ESSbet[i-1]\n",
    "    \n",
    "    solv=fsolve(Eq,l)\n",
    "    ESSbet[i]=solv"
   ]
  },
  {
   "cell_type": "code",
   "execution_count": 9,
   "metadata": {
    "scrolled": true
   },
   "outputs": [
    {
     "name": "stderr",
     "output_type": "stream",
     "text": [
      "<ipython-input-9-dec838ccb957>:5: UserWarning: Attempted to set non-positive left xlim on a log-scaled axis.\n",
      "Invalid limit will be ignored.\n",
      "  plt.xlim(0)\n"
     ]
    },
    {
     "data": {
      "text/plain": [
       "(0.0, 41702232428.013824)"
      ]
     },
     "execution_count": 9,
     "metadata": {},
     "output_type": "execute_result"
    },
    {
     "data": {
      "image/png": "[encoded data removed]",
      "text/plain": [
       "<Figure size 432x288 with 1 Axes>"
      ]
     },
     "metadata": {
      "needs_background": "light"
     },
     "output_type": "display_data"
    }
   ],
   "source": [
    "plt.xscale('log',basex=10)\n",
    "plt.plot(logcapGam_values, ESSbet, '.')\n",
    "plt.xlabel(r'$log_{10}\\Gamma$', fontsize=18)\n",
    "plt.ylabel(r'$ESS\\beta$', fontsize=18)\n",
    "plt.xlim(0)\n",
    "plt.ylim(0)\n",
    "\n",
    "# plt.plot(logcapGam_values, ESSbet, '.')\n",
    "# Does it need to be 'np.log10(ESSbet)' in plt.plot\n",
    "# y axis is scaled 1e10. Could their plots have been scaled?\n",
    "# Shape could be right if my xticks were in same places as theirs but have not been able to make that work\n",
    "# This plot seems a better match than the second one"
   ]
  },
  {
   "cell_type": "code",
   "execution_count": 10,
   "metadata": {},
   "outputs": [
    {
     "name": "stderr",
     "output_type": "stream",
     "text": [
      "<ipython-input-10-ee308238de81>:5: UserWarning: Attempted to set non-positive left xlim on a log-scaled axis.\n",
      "Invalid limit will be ignored.\n",
      "  plt.xlim(0)\n"
     ]
    },
    {
     "data": {
      "text/plain": [
       "(0.0, 11.161878011356697)"
      ]
     },
     "execution_count": 10,
     "metadata": {},
     "output_type": "execute_result"
    },
    {
     "data": {
      "image/png": "[encoded data removed]",
      "text/plain": [
       "<Figure size 432x288 with 1 Axes>"
      ]
     },
     "metadata": {
      "needs_background": "light"
     },
     "output_type": "display_data"
    }
   ],
   "source": [
    "plt.xscale('log',basex=10)\n",
    "plt.plot(logcapGam_values, np.log10(ESSbet), '.')\n",
    "plt.xlabel(r'$log_{10}\\Gamma$', fontsize=18)\n",
    "plt.ylabel(r'$ESS\\beta$', fontsize=18)\n",
    "plt.xlim(0)\n",
    "plt.ylim(0)\n",
    "\n",
    "# plt.plot(logcapGam_values, np.log10(ESSbet), '.')\n",
    "# now not scaled but numbers still too big on y axis compared to what they have\n",
    "# Shape of this one is less convincing"
   ]
  },
  {
   "cell_type": "code",
   "execution_count": 3,
   "metadata": {},
   "outputs": [],
   "source": [
    "q = 0.05\n",
    "A = -2\n",
    "B = -0.2\n",
    "C = 2.5"
   ]
  },
  {
   "cell_type": "code",
   "execution_count": 4,
   "metadata": {},
   "outputs": [],
   "source": [
    "logcapGam_values = np.arange(start=0, stop=10, step=0.1)\n",
    "\n",
    "ESSbet=np.zeros(100)\n",
    "\n",
    "for i in range(100):\n",
    "    capGam = 10**(logcapGam_values[i])\n",
    "    #capGam = logcapGam_values[i]\n",
    "    \n",
    "    if i==0:\n",
    "        l = 0.01\n",
    "    else:\n",
    "        l = ESSbet[i-1]\n",
    "    \n",
    "    solv=fsolve(Eq,l)\n",
    "    ESSbet[i]=solv"
   ]
  },
  {
   "cell_type": "code",
   "execution_count": 13,
   "metadata": {},
   "outputs": [
    {
     "data": {
      "image/png": "[encoded data removed]",
      "text/plain": [
       "<Figure size 432x288 with 1 Axes>"
      ]
     },
     "metadata": {
      "needs_background": "light"
     },
     "output_type": "display_data"
    }
   ],
   "source": [
    "plt.xscale('log',basex=10)\n",
    "plt.plot(logcapGam_values, np.log10(ESSbet), '.')\n",
    "plt.xlabel(r'$log_{10}\\Gamma$', fontsize=18)\n",
    "plt.ylabel(r'$ESS\\beta$', fontsize=18)\n",
    "#plt.xlim(0)\n",
    "#plt.ylim(0)\n",
    "#plt.xticks([0,0.1,10])\n",
    "plt.show()"
   ]
  }
 ],
 "metadata": {
  "kernelspec": {
   "display_name": "Python 3",
   "language": "python",
   "name": "python3"
  },
  "language_info": {
   "codemirror_mode": {
    "name": "ipython",
    "version": 3
   },
   "file_extension": ".py",
   "mimetype": "text/x-python",
   "name": "python",
   "nbconvert_exporter": "python",
   "pygments_lexer": "ipython3",
   "version": "3.8.3"
  }
 },
 "nbformat": 4,
 "nbformat_minor": 4
}
