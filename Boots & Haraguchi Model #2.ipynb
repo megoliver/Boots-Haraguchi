{
 "cells": [
  {
   "cell_type": "markdown",
   "metadata": {},
   "source": [
    "Trying to use last values of N and Y as initial conditions in next iteration."
   ]
  },
  {
   "cell_type": "code",
   "execution_count": 2,
   "metadata": {},
   "outputs": [],
   "source": [
    "import numpy as np\n",
    "import matplotlib.pyplot as plt\n",
    "from scipy.integrate import odeint\n",
    "%matplotlib inline\n",
    "\n",
    "from sympy.solvers import solve\n",
    "from sympy import Symbol"
   ]
  },
  {
   "cell_type": "code",
   "execution_count": 3,
   "metadata": {},
   "outputs": [],
   "source": [
    "def eqs(x, t):\n",
    "        Ndot = r*x[0] - q*(x[0]+x[1])*x[0] - beta*x[1]*x[0]\n",
    "        Ydot = beta*x[1]*x[0] - capgam*x[1]\n",
    "        return Ndot,Ydot"
   ]
  },
  {
   "cell_type": "markdown",
   "metadata": {},
   "source": [
    "# Linear Trade-off Function, r"
   ]
  },
  {
   "cell_type": "code",
   "execution_count": 4,
   "metadata": {},
   "outputs": [],
   "source": [
    "m = 51\n",
    "tmax = 100000\n",
    "\n",
    "phi=np.zeros((m,m))\n",
    "\n",
    "N=np.zeros(m)\n",
    "Y=np.zeros(m)\n",
    "\n",
    "A = 2\n",
    "B = 0.012\n",
    "\n",
    "q = 0.003\n",
    "capgam = 1\n",
    "\n",
    "ts = np.linspace(0,5000,tmax)\n",
    "\n",
    "for n in range(0,m):\n",
    "    beta = n/50\n",
    "    r = A*beta + B\n",
    "    \n",
    "    if n == 0:\n",
    "        x0=[0.9,0.1]\n",
    "    elif n > 0:\n",
    "        x0=[N[n-1],Y[n-1]]\n",
    "        \n",
    "    xs = odeint(eqs,x0,ts)\n",
    "    N[n] = xs[tmax-1:,0]\n",
    "    Y[n] = xs[tmax-1:,1]\n",
    "    \n",
    "    for i in range(0,m):\n",
    "        betam = i/50\n",
    "        rm = A*betam + B \n",
    "        phi[i][n]= rm - q*(N[n]+Y[n]) - betam*Y[n]"
   ]
  },
  {
   "cell_type": "code",
   "execution_count": 5,
   "metadata": {},
   "outputs": [
    {
     "data": {
      "text/plain": [
       "<matplotlib.colorbar.Colorbar at 0x1c936bafd30>"
      ]
     },
     "execution_count": 5,
     "metadata": {},
     "output_type": "execute_result"
    },
    {
     "data": {
      "image/png": "[encoded data removed]",
      "text/plain": [
       "<Figure size 432x288 with 2 Axes>"
      ]
     },
     "metadata": {
      "needs_background": "light"
     },
     "output_type": "display_data"
    }
   ],
   "source": [
    "bets=np.linspace(0,1,m)\n",
    "plt.contourf(bets,bets,phi,0,colors=('w','k'))\n",
    "plt.xlabel('Resident',fontsize=16)\n",
    "plt.ylabel('Mutant',fontsize=16)\n",
    "plt.colorbar()"
   ]
  },
  {
   "cell_type": "markdown",
   "metadata": {},
   "source": [
    "# Convex Trade-off Function, r"
   ]
  },
  {
   "cell_type": "code",
   "execution_count": 19,
   "metadata": {},
   "outputs": [],
   "source": [
    "phi=np.zeros((m,m))\n",
    "N=np.zeros(m)\n",
    "Y=np.zeros(m)\n",
    "\n",
    "A = -2\n",
    "B = -0.2\n",
    "C = 2\n",
    "\n",
    "q = 0.05\n",
    "capgam = 5\n",
    "\n",
    "ts = np.linspace(0,5000,tmax)\n",
    "\n",
    "for n in range(0,m):\n",
    "    beta = n/50\n",
    "    r = 1/(A*(beta - B)) + C\n",
    "    \n",
    "    if n == 0:\n",
    "        x0=[0.9,0.1]\n",
    "    elif n > 0:\n",
    "        x0=[N[n-1],Y[n-1]]\n",
    "        \n",
    "    xs = odeint(eqs,x0,ts)\n",
    "    N[n] = xs[tmax-1:,0]\n",
    "    Y[n] = xs[tmax-1:,1]\n",
    "    \n",
    "    for i in range(0,m):\n",
    "        betam = i/50\n",
    "        rm = 1/(A*(betam - B)) + C \n",
    "        phi[i][n]= rm - q*(N[n]+Y[n]) - betam*Y[n]"
   ]
  },
  {
   "cell_type": "code",
   "execution_count": 20,
   "metadata": {},
   "outputs": [
    {
     "data": {
      "text/plain": [
       "<matplotlib.colorbar.Colorbar at 0x1c936e71100>"
      ]
     },
     "execution_count": 20,
     "metadata": {},
     "output_type": "execute_result"
    },
    {
     "data": {
      "image/png": "[encoded data removed]",
      "text/plain": [
       "<Figure size 432x288 with 2 Axes>"
      ]
     },
     "metadata": {
      "needs_background": "light"
     },
     "output_type": "display_data"
    }
   ],
   "source": [
    "bets=np.linspace(0,1,m)\n",
    "plt.contourf(bets,bets,phi,0,colors=('w','k'))\n",
    "plt.xlabel('Resident',fontsize=16)\n",
    "plt.ylabel('Mutant',fontsize=16)\n",
    "plt.colorbar()"
   ]
  },
  {
   "cell_type": "markdown",
   "metadata": {},
   "source": [
    "# Concave Trade-off Function, r"
   ]
  },
  {
   "cell_type": "code",
   "execution_count": 14,
   "metadata": {},
   "outputs": [
    {
     "name": "stderr",
     "output_type": "stream",
     "text": [
      "C:\\Anaconda\\lib\\site-packages\\scipy\\integrate\\odepack.py:247: ODEintWarning: Excess work done on this call (perhaps wrong Dfun type). Run with full_output = 1 to get quantitative information.\n",
      "  warnings.warn(warning_msg, ODEintWarning)\n"
     ]
    }
   ],
   "source": [
    "phi=np.zeros((m,m))\n",
    "\n",
    "N=np.zeros(m)\n",
    "Y=np.zeros(m)\n",
    "\n",
    "A = -1\n",
    "B = 1.2\n",
    "C = 0.01\n",
    "\n",
    "q = 0.05\n",
    "capgam = 0.05\n",
    "\n",
    "ts = np.linspace(0,5000,tmax)\n",
    "\n",
    "for n in range(0,m):\n",
    "    beta = n/50\n",
    "    r = 1/(A*(beta - B)) + C\n",
    "    \n",
    "    if n == 0:\n",
    "        x0=[0.9,0.1]\n",
    "    elif n > 0:\n",
    "        x0=[N[n-1],Y[n-1]]\n",
    "        \n",
    "    xs = odeint(eqs,x0,ts)\n",
    "    N[n] = xs[tmax-1:,0]\n",
    "    Y[n] = xs[tmax-1:,1]\n",
    "    for i in range(0,m):\n",
    "        betam = i/50\n",
    "        rm = 1/(A*(betam - B)) + C \n",
    "        phi[i][n]= rm - q*(N[n]+Y[n]) - betam*Y[n]"
   ]
  },
  {
   "cell_type": "code",
   "execution_count": 15,
   "metadata": {},
   "outputs": [
    {
     "data": {
      "text/plain": [
       "<matplotlib.colorbar.Colorbar at 0x1c93662ca30>"
      ]
     },
     "execution_count": 15,
     "metadata": {},
     "output_type": "execute_result"
    },
    {
     "data": {
      "image/png": "[encoded data removed]",
      "text/plain": [
       "<Figure size 432x288 with 2 Axes>"
      ]
     },
     "metadata": {
      "needs_background": "light"
     },
     "output_type": "display_data"
    }
   ],
   "source": [
    "bets=np.linspace(0,1,m)\n",
    "plt.contourf(bets,bets,phi,0,colors=('w','k'))\n",
    "plt.xlabel('Resident',fontsize=16)\n",
    "plt.ylabel('Mutant',fontsize=16)\n",
    "plt.colorbar()"
   ]
  },
  {
   "cell_type": "markdown",
   "metadata": {},
   "source": [
    "# Sigmoidal Trade-off Function, r"
   ]
  },
  {
   "cell_type": "code",
   "execution_count": 17,
   "metadata": {},
   "outputs": [],
   "source": [
    "phi=np.zeros((m,m))\n",
    "\n",
    "N=np.zeros(m)\n",
    "Y=np.zeros(m)\n",
    "\n",
    "A = 2\n",
    "B = 0.5\n",
    "C = 3\n",
    "\n",
    "q = 0.003\n",
    "capgam = 15\n",
    "\n",
    "ts = np.linspace(0,5000,tmax)\n",
    "\n",
    "for n in range(0,m):\n",
    "    beta = n/50\n",
    "    r = (A*(beta-B))**C - (A*(-B))**C\n",
    "    \n",
    "    if n == 0:\n",
    "        x0=[0.9,0.1]\n",
    "    elif n > 0:\n",
    "        x0=[N[n-1],Y[n-1]]\n",
    "        \n",
    "    xs = odeint(eqs,x0,ts)\n",
    "    N[n] = xs[tmax-1:,0]\n",
    "    Y[n] = xs[tmax-1:,1]\n",
    "    for i in range(0,m):\n",
    "        betam = i/50\n",
    "        rm = (A*(betam-B))**C - (A*(-B))**C\n",
    "        phi[i][n]= rm - q*(N[n]+Y[n]) - betam*Y[n]"
   ]
  },
  {
   "cell_type": "code",
   "execution_count": 18,
   "metadata": {},
   "outputs": [
    {
     "data": {
      "text/plain": [
       "<matplotlib.colorbar.Colorbar at 0x1c936ddf5b0>"
      ]
     },
     "execution_count": 18,
     "metadata": {},
     "output_type": "execute_result"
    },
    {
     "data": {
      "image/png": "[encoded data removed]",
      "text/plain": [
       "<Figure size 432x288 with 2 Axes>"
      ]
     },
     "metadata": {
      "needs_background": "light"
     },
     "output_type": "display_data"
    }
   ],
   "source": [
    "bets=np.linspace(0,1,m)\n",
    "plt.contourf(bets,bets,phi,0,colors=('w','k'))\n",
    "plt.xlabel('Resident',fontsize=16)\n",
    "plt.ylabel('Mutant',fontsize=16)\n",
    "plt.colorbar()"
   ]
  }
 ],
 "metadata": {
  "kernelspec": {
   "display_name": "Python 3",
   "language": "python",
   "name": "python3"
  },
  "language_info": {
   "codemirror_mode": {
    "name": "ipython",
    "version": 3
   },
   "file_extension": ".py",
   "mimetype": "text/x-python",
   "name": "python",
   "nbconvert_exporter": "python",
   "pygments_lexer": "ipython3",
   "version": "3.8.3"
  }
 },
 "nbformat": 4,
 "nbformat_minor": 4
}
